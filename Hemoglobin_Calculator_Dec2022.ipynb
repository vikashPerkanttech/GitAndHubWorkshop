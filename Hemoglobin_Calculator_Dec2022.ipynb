{
  "cells": [
    {
      "cell_type": "markdown",
      "metadata": {
        "id": "view-in-github",
        "colab_type": "text"
      },
      "source": [
        "<a href=\"https://colab.research.google.com/github/vikashPerkanttech/GitAndHubWorkshop/blob/main/Hemoglobin_Calculator_Dec2022.ipynb\" target=\"_parent\"><img src=\"https://colab.research.google.com/assets/colab-badge.svg\" alt=\"Open In Colab\"/></a>"
      ]
    },
    {
      "cell_type": "code",
      "execution_count": 1,
      "metadata": {
        "id": "zsgqKCjj8u1j"
      },
      "outputs": [],
      "source": [
        "import pickle\n",
        "from pathlib import Path\n",
        "import pandas as pd\n",
        "import numpy as np\n",
        "import scipy\n",
        "from urllib.request import urlopen\n",
        "\n",
        "import os\n",
        "import json\n",
        "import glob\n",
        "\n",
        "\n",
        "import matplotlib.pyplot as plt\n",
        "import seaborn as sns\n"
      ]
    },
    {
      "cell_type": "code",
      "source": [
        "def get_hb(scan_ID):\n",
        "\n",
        "    url = f\"https://dev-main.abhayparimitii.cloudns.asia/userdata/getinfo/{scan_ID}\"\n",
        "\n",
        "    response = urlopen(url)\n",
        "\n",
        "    data = json.load(response)\n",
        "    spo2 = float(data['report']['SPO2'])\n",
        "    c = 112.6898759 - spo2\n",
        "    r = np.min(np.abs(np.roots([1.5958422, -34.6596622, c])))\n",
        "    hb = -3.3912*r + 14.937\n",
        "    age = 24\n",
        "    #Hb = -3.626*r + 0.007*age + 15.617  \n",
        "    Hb= -6.19408285*r + 16.6 #Calculated by me \n",
        "    #Hb= -56.58366*r + 36.32427 # Calculated by lokant\n",
        "    '''\n",
        "    Hb = 57.5 - (0.444 * spo2) \n",
        "    Hb_pred = 61 - (spo2 / 2) \n",
        "    Hb_predicted = - 0.474*(spo2) + 60.5\n",
        "    '''\n",
        "    return Hb,r,spo2 # Hb_pred, Hb_predicted\n"
      ],
      "metadata": {
        "id": "zHLjLOgjNLij"
      },
      "execution_count": 2,
      "outputs": []
    },
    {
      "cell_type": "code",
      "source": [
        "476886311628184\n",
        "get_hb(879216423635970)[0]"
      ],
      "metadata": {
        "colab": {
          "base_uri": "https://localhost:8080/"
        },
        "id": "4Z5Cia6IH1fl",
        "outputId": "fd127669-d212-42e6-e3fe-15acf230bc36"
      },
      "execution_count": 4,
      "outputs": [
        {
          "output_type": "execute_result",
          "data": {
            "text/plain": [
              "14.274087293578049"
            ]
          },
          "metadata": {},
          "execution_count": 4
        }
      ]
    },
    {
      "cell_type": "code",
      "source": [
        "nikhil = [418364129833058,759251686798611, 855163567404783,201072999524944,564261030643501]\n",
        "hb = [get_hb(i)[0] for i in nikhil]\n",
        "hb"
      ],
      "metadata": {
        "colab": {
          "base_uri": "https://localhost:8080/"
        },
        "id": "UIzEXBKugWpe",
        "outputId": "2b70b063-0466-4784-943d-111dd3b03934"
      },
      "execution_count": null,
      "outputs": [
        {
          "output_type": "execute_result",
          "data": {
            "text/plain": [
              "[14.144378948142645,\n",
              " 14.088710119336895,\n",
              " 14.088710119336895,\n",
              " 14.107271711796752,\n",
              " 14.07014320458881]"
            ]
          },
          "metadata": {},
          "execution_count": 42
        }
      ]
    },
    {
      "cell_type": "code",
      "source": [
        "r = [get_hb(i)[1] for i in nikhil]\n",
        "r"
      ],
      "metadata": {
        "colab": {
          "base_uri": "https://localhost:8080/"
        },
        "id": "Sy-jbVywxUzS",
        "outputId": "f6e52363-42a7-4f13-bbd9-d4e4c055aaaa"
      },
      "execution_count": null,
      "outputs": [
        {
          "output_type": "execute_result",
          "data": {
            "text/plain": [
              "[0.396446271598927,\n",
              " 0.40543369236062227,\n",
              " 0.40543369236062227,\n",
              " 0.4024370271707375,\n",
              " 0.4084312168041459]"
            ]
          },
          "metadata": {},
          "execution_count": 43
        }
      ]
    },
    {
      "cell_type": "code",
      "source": [
        "np.mean(hb)"
      ],
      "metadata": {
        "colab": {
          "base_uri": "https://localhost:8080/"
        },
        "id": "S_NfNgnX0UdA",
        "outputId": "efb996dd-c228-431f-d934-e4a687e0d1aa"
      },
      "execution_count": null,
      "outputs": [
        {
          "output_type": "execute_result",
          "data": {
            "text/plain": [
              "14.0998428206404"
            ]
          },
          "metadata": {},
          "execution_count": 44
        }
      ]
    },
    {
      "cell_type": "code",
      "source": [
        "shourya = [361139746774423,611538367872948,337040297609539,707544519779308,727994997553662]\n",
        "hb1 = [get_hb(i)[0] for i in shourya]\n",
        "hb1"
      ],
      "metadata": {
        "colab": {
          "base_uri": "https://localhost:8080/"
        },
        "id": "wZgdt48UhM4o",
        "outputId": "f2fc7e8c-ad98-4d1d-bca3-fc65e429bdb0"
      },
      "execution_count": null,
      "outputs": [
        {
          "output_type": "execute_result",
          "data": {
            "text/plain": [
              "[13.828286891305364,\n",
              " 13.995822230997277,\n",
              " 14.088710119336895,\n",
              " 13.585520154966112,\n",
              " 14.088710119336895]"
            ]
          },
          "metadata": {},
          "execution_count": 45
        }
      ]
    },
    {
      "cell_type": "code",
      "source": [
        "r1 = [get_hb(i)[1] for i in shourya]\n",
        "r1"
      ],
      "metadata": {
        "colab": {
          "base_uri": "https://localhost:8080/"
        },
        "id": "6Wtxcd1U0a7N",
        "outputId": "5c0459e5-bd35-48c0-f41e-796a0f53e1dd"
      },
      "execution_count": null,
      "outputs": [
        {
          "output_type": "execute_result",
          "data": {
            "text/plain": [
              "[0.447477564607428,\n",
              " 0.4204299219218103,\n",
              " 0.40543369236062227,\n",
              " 0.48667089511627853,\n",
              " 0.40543369236062227]"
            ]
          },
          "metadata": {},
          "execution_count": 46
        }
      ]
    },
    {
      "cell_type": "code",
      "source": [
        "np.std(hb1)"
      ],
      "metadata": {
        "colab": {
          "base_uri": "https://localhost:8080/"
        },
        "id": "s9_LWhIZjCKb",
        "outputId": "974a6841-4f6e-40ab-926b-503a6201a2fa"
      },
      "execution_count": null,
      "outputs": [
        {
          "output_type": "execute_result",
          "data": {
            "text/plain": [
              "0.19127453436336292"
            ]
          },
          "metadata": {},
          "execution_count": 47
        }
      ]
    },
    {
      "cell_type": "code",
      "source": [
        "get_hb(386934488733249)"
      ],
      "metadata": {
        "colab": {
          "base_uri": "https://localhost:8080/"
        },
        "id": "feSsm6Vhh1Ly",
        "outputId": "e4241f2c-a506-4168-8731-2ced26cc2c26"
      },
      "execution_count": null,
      "outputs": [
        {
          "output_type": "execute_result",
          "data": {
            "text/plain": [
              "(14.125827986542735, 0.39944122049598785)"
            ]
          },
          "metadata": {},
          "execution_count": 48
        }
      ]
    },
    {
      "cell_type": "code",
      "source": [
        "lokant = [478619187091095,203808835153787,907547108442161,885299364323686,22047566433878]\n",
        "hb_lokant = [get_hb(i)[0] for i in lokant]\n",
        "hb_lokant, np.mean(hb_lokant)"
      ],
      "metadata": {
        "colab": {
          "base_uri": "https://localhost:8080/"
        },
        "id": "AOV_hhJEtymf",
        "outputId": "b45e7202-f8c2-4f29-8edc-4d56f8597f2e"
      },
      "execution_count": null,
      "outputs": [
        {
          "output_type": "execute_result",
          "data": {
            "text/plain": [
              "([14.199999999645986,\n",
              "  14.199999999645986,\n",
              "  14.237054218367362,\n",
              "  14.144378948142645,\n",
              "  14.162924601157744],\n",
              " 14.188871553391945)"
            ]
          },
          "metadata": {},
          "execution_count": 49
        }
      ]
    },
    {
      "cell_type": "code",
      "source": [
        "r_lokant = [get_hb(i)[1] for i in lokant]\n",
        "r_lokant"
      ],
      "metadata": {
        "colab": {
          "base_uri": "https://localhost:8080/"
        },
        "id": "TRhE6n180FpN",
        "outputId": "c3669916-e5cc-4385-91b5-1a9b0e8af28a"
      },
      "execution_count": null,
      "outputs": [
        {
          "output_type": "execute_result",
          "data": {
            "text/plain": [
              "[0.3874665642152358,\n",
              " 0.3874665642152358,\n",
              " 0.38148436804209657,\n",
              " 0.396446271598927,\n",
              " 0.39345217974316504]"
            ]
          },
          "metadata": {},
          "execution_count": 50
        }
      ]
    },
    {
      "cell_type": "code",
      "source": [
        "def get_hb_female(scan_ID):\n",
        "\n",
        "    url = f\"https://dev-main.abhayparimitii.cloudns.asia/userdata/getinfo/{scan_ID}\"\n",
        "\n",
        "    response = urlopen(url)\n",
        "\n",
        "    data = json.load(response)\n",
        "    spo2 = float(data['report']['SPO2'])\n",
        "    c = 112.6898759 - spo2\n",
        "    r = np.min(np.abs(np.roots([1.5958422, -34.6596622, c])))\n",
        "    hb = -3.3912*r + 14.937\n",
        "    age = 24\n",
        "    #Hb = -3.626*r + 0.007*age + 15.617\n",
        "    Hb= -8.66681799*r + 15 #calculated by me\n",
        "    #Hb= -56.58366*r + 36.32427 #calculated by lokant\n",
        "    return Hb, r"
      ],
      "metadata": {
        "id": "ML929b7Wydd2"
      },
      "execution_count": null,
      "outputs": []
    },
    {
      "cell_type": "code",
      "source": [
        "saniya_id = [653661558721882,739291366753062,222020992699772]\n",
        "hb2 = [get_hb_female(i)[0] for i in saniya_id]\n",
        "hb2"
      ],
      "metadata": {
        "id": "oUrhPIpRJ-Wr",
        "colab": {
          "base_uri": "https://localhost:8080/"
        },
        "outputId": "8deeb199-a665-44bc-c472-f2e8ef80a258"
      },
      "execution_count": null,
      "outputs": [
        {
          "output_type": "execute_result",
          "data": {
            "text/plain": [
              "[10.991298216622706, 11.226053818163274, 11.199999995386658]"
            ]
          },
          "metadata": {},
          "execution_count": 52
        }
      ]
    },
    {
      "cell_type": "code",
      "source": [
        "get_hb_female(476886311628184)[0]"
      ],
      "metadata": {
        "colab": {
          "base_uri": "https://localhost:8080/"
        },
        "id": "wQYszCWHJ1_i",
        "outputId": "baec30b2-d8e5-43fb-8541-1b069f2678ac"
      },
      "execution_count": null,
      "outputs": [
        {
          "output_type": "execute_result",
          "data": {
            "text/plain": [
              "11.0957094590128"
            ]
          },
          "metadata": {},
          "execution_count": 5
        }
      ]
    },
    {
      "cell_type": "code",
      "source": [
        "r3 = [get_hb(i)[1] for i in saniya_id]\n",
        "r3"
      ],
      "metadata": {
        "colab": {
          "base_uri": "https://localhost:8080/"
        },
        "id": "4V6W8Pc7tuys",
        "outputId": "a4e2fc13-ac83-440a-aaac-e595059af223"
      },
      "execution_count": null,
      "outputs": [
        {
          "output_type": "execute_result",
          "data": {
            "text/plain": [
              "[0.46253443743743544, 0.4354477255886996, 0.43845388342040653]"
            ]
          },
          "metadata": {},
          "execution_count": 54
        }
      ]
    }
  ],
  "metadata": {
    "colab": {
      "provenance": [],
      "include_colab_link": true
    },
    "kernelspec": {
      "display_name": "Python 3",
      "name": "python3"
    },
    "language_info": {
      "name": "python"
    }
  },
  "nbformat": 4,
  "nbformat_minor": 0
}